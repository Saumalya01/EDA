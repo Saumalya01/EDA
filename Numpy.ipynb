{
 "cells": [
  {
   "cell_type": "markdown",
   "id": "990ff53a",
   "metadata": {},
   "source": [
    "Operations on Matrix using Numpy"
   ]
  },
  {
   "cell_type": "code",
   "execution_count": 1,
   "id": "d5e9ca80",
   "metadata": {},
   "outputs": [],
   "source": [
    "import numpy as np\n",
    "climate_data=np.array([[73,67,63],\n",
    "                       [91,88,64],\n",
    "                       [87,134,58],\n",
    "                       [102,43,37],\n",
    "                       [69,96,70]])\n",
    "weights=np.array([0.3,0.2,0.5])"
   ]
  },
  {
   "cell_type": "code",
   "execution_count": 2,
   "id": "a28c32a0",
   "metadata": {},
   "outputs": [
    {
     "data": {
      "text/plain": [
       "array([0.3, 0.2, 0.5])"
      ]
     },
     "execution_count": 2,
     "metadata": {},
     "output_type": "execute_result"
    }
   ],
   "source": [
    "weights"
   ]
  },
  {
   "cell_type": "code",
   "execution_count": 3,
   "id": "fc18903a",
   "metadata": {},
   "outputs": [
    {
     "data": {
      "text/plain": [
       "array([[ 73,  67,  63],\n",
       "       [ 91,  88,  64],\n",
       "       [ 87, 134,  58],\n",
       "       [102,  43,  37],\n",
       "       [ 69,  96,  70]])"
      ]
     },
     "execution_count": 3,
     "metadata": {},
     "output_type": "execute_result"
    }
   ],
   "source": [
    "climate_data"
   ]
  },
  {
   "cell_type": "code",
   "execution_count": 5,
   "id": "a92a3994",
   "metadata": {},
   "outputs": [
    {
     "data": {
      "text/plain": [
       "array([66.8, 76.9, 81.9, 57.7, 74.9])"
      ]
     },
     "execution_count": 5,
     "metadata": {},
     "output_type": "execute_result"
    }
   ],
   "source": [
    "np.matmul(climate_data,weights) #Matrix Multiplication of 2 matices named as climate_data & weights"
   ]
  },
  {
   "cell_type": "code",
   "execution_count": 6,
   "id": "f9d41d5b",
   "metadata": {},
   "outputs": [
    {
     "data": {
      "text/plain": [
       "('climate.txt', <http.client.HTTPMessage at 0x14822226160>)"
      ]
     },
     "execution_count": 6,
     "metadata": {},
     "output_type": "execute_result"
    }
   ],
   "source": [
    "#Importing to access some file using it's URL address and saving it as \"climate.txt\"\n",
    "import urllib.request  \n",
    "urllib.request.urlretrieve(\n",
    "    'https://gist.github.com/BirajCoder/a4ffcb76fd6fb221d76ac2ee2b8584e9/raw/4054f90adfd361b7aa4255e99c2e874664094cea/climate.csv', \n",
    "    'climate.txt')"
   ]
  },
  {
   "cell_type": "code",
   "execution_count": 7,
   "id": "dcc03e8e",
   "metadata": {},
   "outputs": [],
   "source": [
    "#Converting the extracted CSV file to a numpy array by skipping its headers\n",
    "climate_data=np.genfromtxt('climate.txt',delimiter=',',skip_header=1) "
   ]
  },
  {
   "cell_type": "code",
   "execution_count": 8,
   "id": "43b98c9d",
   "metadata": {},
   "outputs": [
    {
     "data": {
      "text/plain": [
       "array([[25., 76., 99.],\n",
       "       [39., 65., 70.],\n",
       "       [59., 45., 77.],\n",
       "       ...,\n",
       "       [99., 62., 58.],\n",
       "       [70., 71., 91.],\n",
       "       [92., 39., 76.]])"
      ]
     },
     "execution_count": 8,
     "metadata": {},
     "output_type": "execute_result"
    }
   ],
   "source": [
    "climate_data"
   ]
  },
  {
   "cell_type": "code",
   "execution_count": 14,
   "id": "b1691b67",
   "metadata": {},
   "outputs": [
    {
     "data": {
      "text/plain": [
       "[0.3, 0.4, 0.5]"
      ]
     },
     "execution_count": 14,
     "metadata": {},
     "output_type": "execute_result"
    }
   ],
   "source": [
    "weights=([0.3,0.4,0.5])\n",
    "weights"
   ]
  },
  {
   "cell_type": "code",
   "execution_count": 15,
   "id": "ea5695ec",
   "metadata": {},
   "outputs": [],
   "source": [
    "yeilds=climate_data@weights  # @ is used for Matrix Multiplication"
   ]
  },
  {
   "cell_type": "code",
   "execution_count": 16,
   "id": "ec0ca38f",
   "metadata": {},
   "outputs": [
    {
     "data": {
      "text/plain": [
       "array([87.4, 72.7, 74.2, ..., 83.5, 94.9, 81.2])"
      ]
     },
     "execution_count": 16,
     "metadata": {},
     "output_type": "execute_result"
    }
   ],
   "source": [
    "yeilds"
   ]
  },
  {
   "cell_type": "code",
   "execution_count": 17,
   "id": "a6b2b79b",
   "metadata": {},
   "outputs": [
    {
     "data": {
      "text/plain": [
       "array([[87.4],\n",
       "       [72.7],\n",
       "       [74.2],\n",
       "       ...,\n",
       "       [83.5],\n",
       "       [94.9],\n",
       "       [81.2]])"
      ]
     },
     "execution_count": 17,
     "metadata": {},
     "output_type": "execute_result"
    }
   ],
   "source": [
    "#Reshaping the array without changing its data(like transposing)\n",
    "yeilds.reshape(10000,1) "
   ]
  },
  {
   "cell_type": "code",
   "execution_count": 18,
   "id": "31ef753f",
   "metadata": {},
   "outputs": [
    {
     "data": {
      "text/plain": [
       "array([[25., 76., 99.],\n",
       "       [39., 65., 70.],\n",
       "       [59., 45., 77.],\n",
       "       ...,\n",
       "       [99., 62., 58.],\n",
       "       [70., 71., 91.],\n",
       "       [92., 39., 76.]])"
      ]
     },
     "execution_count": 18,
     "metadata": {},
     "output_type": "execute_result"
    }
   ],
   "source": [
    "climate_data"
   ]
  },
  {
   "cell_type": "code",
   "execution_count": 19,
   "id": "7e406e96",
   "metadata": {},
   "outputs": [
    {
     "data": {
      "text/plain": [
       "array([[25. , 76. , 99. , 87.4],\n",
       "       [39. , 65. , 70. , 72.7],\n",
       "       [59. , 45. , 77. , 74.2],\n",
       "       ...,\n",
       "       [99. , 62. , 58. , 83.5],\n",
       "       [70. , 71. , 91. , 94.9],\n",
       "       [92. , 39. , 76. , 81.2]])"
      ]
     },
     "execution_count": 19,
     "metadata": {},
     "output_type": "execute_result"
    }
   ],
   "source": [
    "#Concatenating 2 array's\n",
    "climate_results=np.concatenate((climate_data,yeilds.reshape(10000,1)),axis=1)\n",
    "climate_results"
   ]
  },
  {
   "cell_type": "code",
   "execution_count": 21,
   "id": "0879fbca",
   "metadata": {},
   "outputs": [],
   "source": [
    "#Saving the final concatenated array back into the text file with its headers\n",
    "np.savetxt('climate_results.txt',climate_results,\n",
    "            fmt='%.2f',\n",
    "            delimiter=',',\n",
    "            header='temperature,rainfall,humidity,yeild_of_apples',\n",
    "            comments='')"
   ]
  },
  {
   "cell_type": "markdown",
   "id": "3b3b4966",
   "metadata": {},
   "source": [
    "Numpy functions:\n",
    "Mathematics: np.sum, np.exp, np.round, arithemtic operators\n",
    "\n",
    "Array manipulation: np.reshape, np.stack, np.concatenate, np.split\n",
    "\n",
    "Linear Algebra: np.matmul, np.dot, np.transpose, np.eigvals\n",
    "\n",
    "Statistics: np.mean, np.median, np.std, np.max\n",
    "\n",
    "All functions in Numpy -----> https://numpy.org/doc/stable/reference/routines.html"
   ]
  }
 ],
 "metadata": {
  "kernelspec": {
   "display_name": "Python 3 (ipykernel)",
   "language": "python",
   "name": "python3"
  },
  "language_info": {
   "codemirror_mode": {
    "name": "ipython",
    "version": 3
   },
   "file_extension": ".py",
   "mimetype": "text/x-python",
   "name": "python",
   "nbconvert_exporter": "python",
   "pygments_lexer": "ipython3",
   "version": "3.9.13"
  }
 },
 "nbformat": 4,
 "nbformat_minor": 5
}
